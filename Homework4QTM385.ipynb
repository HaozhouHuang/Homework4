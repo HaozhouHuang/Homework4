{
 "cells": [
  {
   "cell_type": "markdown",
   "metadata": {},
   "source": [
    "# QTM 385\n",
    "\n",
    "***\n",
    "\n",
    "## Homework 4\n",
    "\n",
    "Student: [2343728]Haozhou Huang"
   ]
  },
  {
   "cell_type": "markdown",
   "metadata": {},
   "source": [
    "In this homework, we will create an object called Student, that is useful for a professor to store information about a student."
   ]
  },
  {
   "cell_type": "markdown",
   "metadata": {},
   "source": [
    "\n",
    "***\n",
    "\n",
    "### Question 1\n",
    "\n",
    "Create a class Student, that has:\n",
    "\n",
    "0. Id number (5-digits integer, starting with 1)\n",
    "1. First Name (str)\n",
    "2. Last Name (str)\n",
    "3. Grades (list of floats)\n",
    "4. Credits (list of integers)\n",
    "5. Major (str)\n",
    "\n",
    "Provide a constructor for your class and create one fictitious student."
   ]
  },
  {
   "cell_type": "code",
   "execution_count": 1,
   "metadata": {},
   "outputs": [],
   "source": [
    "class Student:\n",
    "    def __init__(self,id_number, first_name,last_name , grades , credits, major):\n",
    "        self.id_number = id_number\n",
    "        self.first_name = first_name\n",
    "        self.last_name = last_name\n",
    "        self.grades = grades\n",
    "        self.credits = credits\n",
    "        self.major = major\n",
    "stu1 = Student(12345, 'Haozhou', 'Huang', [92.6,94.9,95.0],[2,3,4],'AMS')"
   ]
  },
  {
   "cell_type": "markdown",
   "metadata": {},
   "source": [
    "\n",
    "***\n",
    "\n",
    "### Question 2\n",
    "\n",
    "Create a method to nicely display the student when we type `print`. It should display, for example:\n",
    "\n",
    "```\n",
    "Student:\n",
    "    Id: 12345\n",
    "    Name: Mig, Umberto\n",
    "    Major: QSS\n",
    "```\n",
    "\n",
    "Create a method that, when a variable storing a student is typed in the console, displays:\n",
    "\n",
    "```\n",
    "Student(Mig, Umberto; 12345)\n",
    "```\n",
    "\n",
    "Provide some testing with a fictitious result of your choice."
   ]
  },
  {
   "cell_type": "code",
   "execution_count": 2,
   "metadata": {},
   "outputs": [],
   "source": [
    "class Student:\n",
    "    def __init__(self,id_number, first_name,last_name , grades , credits, major):\n",
    "        self.id_number = id_number\n",
    "        self.first_name = first_name\n",
    "        self.last_name = last_name\n",
    "        self.grades = grades\n",
    "        self.credits = credits\n",
    "        self.major = major\n",
    "        \n",
    "    def __str__(self):\n",
    "        stu_info =\"\"\"\n",
    "        Student:\n",
    "            Id: {number}\n",
    "            Name: {name}\n",
    "            Major: {major}\n",
    "            \"\"\".format(number = self.id_number , name = self.last_name+', '+self.first_name,major = self.major)\n",
    "        return stu_info\n",
    "    \n",
    "    def __repr__(self):\n",
    "        return \"Student({name}; {id})\".format(name = self.last_name+', '+self.first_name, id=self.id_number)"
   ]
  },
  {
   "cell_type": "code",
   "execution_count": 3,
   "metadata": {},
   "outputs": [
    {
     "name": "stdout",
     "output_type": "stream",
     "text": [
      "\n",
      "        Student:\n",
      "            Id: 12345\n",
      "            Name: Huang, Haozhou\n",
      "            Major: AMS\n",
      "            \n"
     ]
    },
    {
     "data": {
      "text/plain": [
       "Student(Huang, Haozhou; 12345)"
      ]
     },
     "execution_count": 3,
     "metadata": {},
     "output_type": "execute_result"
    }
   ],
   "source": [
    "stu1 = Student(12345, 'Haozhou', 'Huang', [92.6,94.9,95.0],[2,3,4],'AMS')\n",
    "print(stu1)\n",
    "stu1"
   ]
  },
  {
   "cell_type": "markdown",
   "metadata": {},
   "source": [
    "\n",
    "***\n",
    "\n",
    "### Question 3\n",
    "\n",
    "Implement class methods for:\n",
    "\n",
    "1. Check if the id number is valid (remember: 5 digits, starting with number one)\n",
    "2. Check if the grades list has the same length as the credits list. The idea is that every grade corresponds to a course that gave the student a certain amount of credits.\n",
    "3. Append grade and credit: given a grade, and credits attached to the grade, append both to each respective place.\n",
    "\n",
    "Test your function with a toy student of your choice."
   ]
  },
  {
   "cell_type": "code",
   "execution_count": 4,
   "metadata": {},
   "outputs": [],
   "source": [
    "class Student:\n",
    "    def __init__(self,id_number, first_name,last_name , grades , credits, major):\n",
    "        self.id_number = id_number\n",
    "        self.first_name = first_name\n",
    "        self.last_name = last_name\n",
    "        self.grades = grades\n",
    "        self.credits = credits\n",
    "        self.major = major\n",
    "        \n",
    "    def __str__(self):\n",
    "        stu_info =\"\"\"\n",
    "        Student:\n",
    "            Id:{number}\n",
    "            Name:{name}\n",
    "            Major:{major}\n",
    "            \"\"\".format(number = self.id_number , name = self.last_name+', '+self.first_name,major = self.major)\n",
    "        return stu_info\n",
    "    \n",
    "    def __repr__(self):\n",
    "        return \"Student({name}; {id})\".format(name = self.last_name+', '+self.first_name, id=self.id_number)\n",
    "    \n",
    "    def id_valid(self):\n",
    "        if self.id_number>=10000 and self.id_number<=19999:\n",
    "            return 'Valid ID!'\n",
    "        else:\n",
    "            return 'Invalid ID!'\n",
    "    \n",
    "    def len_equal(self):\n",
    "        if len(self.grades)==len(self.credits):\n",
    "            return 'The lengths of grades and credits are equal!'\n",
    "        else:\n",
    "            return 'The lengths of grades and credits are different!'\n",
    "    \n",
    "    def add_grade(self, grade, credit):\n",
    "        self.grades.append(grade)\n",
    "        self.credits.append(credit)"
   ]
  },
  {
   "cell_type": "code",
   "execution_count": 5,
   "metadata": {},
   "outputs": [
    {
     "name": "stdout",
     "output_type": "stream",
     "text": [
      "Valid ID!\n",
      "The lengths of grades and credits are equal!\n",
      "[92.6, 94.9, 95.0, 99.9]\n",
      "[2, 3, 4, 4]\n"
     ]
    }
   ],
   "source": [
    "stu1 = Student(12345, 'Haozhou', 'Huang', [92.6,94.9,95.0],[2,3,4],'AMS')\n",
    "print(stu1.id_valid())\n",
    "print(stu1.len_equal())\n",
    "stu1.add_grade(99.9 , 4)\n",
    "print(stu1.grades)\n",
    "print(stu1.credits)"
   ]
  },
  {
   "cell_type": "code",
   "execution_count": 6,
   "metadata": {},
   "outputs": [
    {
     "name": "stdout",
     "output_type": "stream",
     "text": [
      "Invalid ID!\n",
      "The lengths of grades and credits are different!\n",
      "[92.6, 94.9, 99.9]\n",
      "[2, 3, 4, 4]\n"
     ]
    }
   ],
   "source": [
    "stu2 = Student(23456, 'Haozhou', 'Huang', [92.6,94.9],[2,3,4],'AMS')\n",
    "print(stu2.id_valid())\n",
    "print(stu2.len_equal())\n",
    "stu2.add_grade(99.9 , 4)\n",
    "print(stu2.grades)\n",
    "print(stu2.credits)"
   ]
  },
  {
   "cell_type": "markdown",
   "metadata": {},
   "source": [
    "\n",
    "***\n",
    "\n",
    "### Question 4\n",
    "\n",
    "Create a module in the class Student that computes the unweighted average of the student's grades."
   ]
  },
  {
   "cell_type": "code",
   "execution_count": 7,
   "metadata": {},
   "outputs": [],
   "source": [
    "class Student:\n",
    "    def __init__(self,id_number, first_name,last_name , grades , credits, major):\n",
    "        self.id_number = id_number\n",
    "        self.first_name = first_name\n",
    "        self.last_name = last_name\n",
    "        self.grades = grades\n",
    "        self.credits = credits\n",
    "        self.major = major\n",
    "        \n",
    "    def __str__(self):\n",
    "        stu_info =\"\"\"\n",
    "        Student:\n",
    "            Id:{number}\n",
    "            Name:{name}\n",
    "            Major:{major}\n",
    "            \"\"\".format(number = self.id_number , name = self.last_name+', '+self.first_name,major = self.major)\n",
    "        return stu_info\n",
    "    \n",
    "    def __repr__(self):\n",
    "        return \"Student({name}; {id})\".format(name = self.last_name+', '+self.first_name, id=self.id_number)\n",
    "    \n",
    "    def id_valid(self):\n",
    "        return self.id_number>=10000 and self.id_number<=19999\n",
    "    \n",
    "    def len_equal(self):\n",
    "        return len(self.grades)==len(self.credits)\n",
    "    \n",
    "    def add_grade(self, grade, credit):\n",
    "        self.grades.append(grade)\n",
    "        self.credits.append(credit)\n",
    "    \n",
    "    def unweighted_average(self):\n",
    "        total_grades = 0\n",
    "        for i in self.grades:\n",
    "            total_grades += i\n",
    "        return total_grades/len(self.grades)"
   ]
  },
  {
   "cell_type": "code",
   "execution_count": 8,
   "metadata": {},
   "outputs": [
    {
     "name": "stdout",
     "output_type": "stream",
     "text": [
      "94.16666666666667\n",
      "93.75\n"
     ]
    }
   ],
   "source": [
    "stu1 = Student(12345, 'Haozhou', 'Huang', [92.6,94.9,95.0],[2,3,4],'AMS')\n",
    "stu2 = Student(23456, 'Haozhou', 'Huang', [92.6,94.9],[2,3,4],'AMS')\n",
    "print(stu1.unweighted_average())\n",
    "print(stu2.unweighted_average())"
   ]
  },
  {
   "cell_type": "markdown",
   "metadata": {},
   "source": [
    "\n",
    "***\n",
    "\n",
    "### Question 5\n",
    "\n",
    "Create a module in the class Student that computes the weighted average of the student's grades, weighted by the credits."
   ]
  },
  {
   "cell_type": "code",
   "execution_count": 9,
   "metadata": {},
   "outputs": [],
   "source": [
    "class Student:\n",
    "    def __init__(self,id_number, first_name,last_name , grades , credits, major):\n",
    "        self.id_number = id_number\n",
    "        self.first_name = first_name\n",
    "        self.last_name = last_name\n",
    "        self.grades = grades\n",
    "        self.credits = credits\n",
    "        self.major = major\n",
    "        \n",
    "    def __str__(self):\n",
    "        stu_info =\"\"\"\n",
    "        Student:\n",
    "            Id:{number}\n",
    "            Name:{name}\n",
    "            Major:{major}\n",
    "            \"\"\".format(number = self.id_number , name = self.last_name+', '+self.first_name,major = self.major)\n",
    "        return stu_info\n",
    "    \n",
    "    def __repr__(self):\n",
    "        return \"Student({name}; {id})\".format(name = self.last_name+', '+self.first_name, id=self.id_number)\n",
    "    \n",
    "    def id_valid(self):\n",
    "        if self.id_number>=10000 and self.id_number<=19999:\n",
    "            return 'Valid ID!'\n",
    "        else:\n",
    "            return 'Invalid ID!'\n",
    "    \n",
    "    def len_equal(self):\n",
    "        if len(self.grades)==len(self.credits):\n",
    "            return 'The lengths of grades and credits are equal!'\n",
    "        else:\n",
    "            return 'The lengths of grades and credits are different!'\n",
    "    \n",
    "    def add_grade(self, grade, credit):\n",
    "        self.grades.append(grade)\n",
    "        self.credits.append(credit)\n",
    "    \n",
    "    def unweighted_average(self):\n",
    "        total_grades = 0\n",
    "        for i in self.grades:\n",
    "            total_grades += i\n",
    "        return total_grades/len(self.grades)\n",
    "    \n",
    "    def weighted_average(self):\n",
    "        total_grades = 0\n",
    "        total_credits = 0\n",
    "        if len(self.grades)==len(self.credits):\n",
    "            for i in range(len(self.grades)):\n",
    "                total_grades += self.grades[i]*self.credits[i]\n",
    "            for j in self.credits:\n",
    "                total_credits += j\n",
    "            return total_grades/total_credits\n",
    "        else:\n",
    "            return 'Unmatched grades and credits!'"
   ]
  },
  {
   "cell_type": "code",
   "execution_count": 10,
   "metadata": {},
   "outputs": [
    {
     "name": "stdout",
     "output_type": "stream",
     "text": [
      "94.43333333333334\n",
      "Unmatched grades and credits!\n"
     ]
    }
   ],
   "source": [
    "stu1 = Student(12345, 'Haozhou', 'Huang', [92.6,94.9,95.0],[2,3,4],'AMS')\n",
    "stu2 = Student(23456, 'Haozhou', 'Huang', [92.6,94.9],[2,3,4],'AMS')\n",
    "print(stu1.weighted_average())\n",
    "print(stu2.weighted_average())"
   ]
  },
  {
   "cell_type": "markdown",
   "metadata": {},
   "source": [
    "**That's all, folks!**"
   ]
  }
 ],
 "metadata": {
  "kernelspec": {
   "display_name": "Python 3",
   "language": "python",
   "name": "python3"
  },
  "language_info": {
   "codemirror_mode": {
    "name": "ipython",
    "version": 3
   },
   "file_extension": ".py",
   "mimetype": "text/x-python",
   "name": "python",
   "nbconvert_exporter": "python",
   "pygments_lexer": "ipython3",
   "version": "3.8.5"
  }
 },
 "nbformat": 4,
 "nbformat_minor": 4
}
